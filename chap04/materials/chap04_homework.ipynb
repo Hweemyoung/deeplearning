{
 "cells": [
  {
   "cell_type": "markdown",
   "metadata": {},
   "source": [
    "# 第4回講義 宿題"
   ]
  },
  {
   "cell_type": "markdown",
   "metadata": {},
   "source": [
    "## 課題\n",
    "今Lessonで学んだことを元に, MNISTのファッション版 (Fashion MNIST, クラス数10) を多層パーセプトロン (MLP) によって分類してみましょう.\n",
    "\n",
    "Fashion MNISTの詳細については以下のリンクを参考にしてください.\n",
    "\n",
    "Fashion MNIST: https://github.com/zalandoresearch/fashion-mnist"
   ]
  },
  {
   "cell_type": "markdown",
   "metadata": {},
   "source": [
    "### 目標値\n",
    "Accuracy: 85%"
   ]
  },
  {
   "cell_type": "markdown",
   "metadata": {},
   "source": [
    "### ルール\n",
    "- **下のセルで指定されている`x_train、y_train`以外の学習データは使わないでください。**\n",
    "- **MLPのアルゴリズム部分の実装はnumpyのみで行ってください** (sklearnやtensorflowなどは使用しないでください)。\n",
    "    - データの前処理部分でsklearnの関数を使う (例えば `sklearn.model_selection.train_test_split`) のは問題ありません。"
   ]
  },
  {
   "cell_type": "markdown",
   "metadata": {},
   "source": [
    "### 提出方法\n",
    "- 2つのファイルを提出していただきます。\n",
    "    1. テストデータ (`x_test`) に対する予測ラベルを`submission_pred.csv`として保存し、**Homeworkタブから`chap04`を選択して**提出してください。\n",
    "    2. それに対応するpythonのコードを`submission_code.py`として保存し、**Homeworkタブから`chap04 (code)`を選択して**提出してください。\n",
    "      - セルに書いたコードを.py形式で保存するためには%%writefileコマンドなどを利用してください（writefileコマンドではファイルの保存のみが行われセル内のpythonコード自体は実行されません。そのため、実際にコードを走らせる際にはwritefileコマンドをコメントアウトしてください）。\n",
    "      \n",
    "- なお、採点は1で行い、2はコードの確認用として利用します（成績優秀者はコード内容を公開させていただくかもしれません）。コードの内容を変更した場合は、**1と2の両方を提出し直してください**。"
   ]
  },
  {
   "cell_type": "markdown",
   "metadata": {},
   "source": [
    "### 評価方法\n",
    "- 予測ラベルの`y_test`に対する精度 (Accuracy) で評価します.\n",
    "- 毎日夜24時にテストデータの一部に対する精度でLeader Boardを更新します.\n",
    "- 締切日の夜24時にテストデータ全体に対する精度でLeader Boardを更新します. これを最終的な評価とします."
   ]
  },
  {
   "cell_type": "markdown",
   "metadata": {},
   "source": [
    "### データの読み込み\n",
    "- この部分は修正しないでください。"
   ]
  },
  {
   "cell_type": "code",
   "execution_count": 1,
   "metadata": {},
   "outputs": [],
   "source": [
    "import os\n",
    "import sys\n",
    "\n",
    "import numpy as np\n",
    "import pandas as pd\n",
    "\n",
    "sys.modules['tensorflow'] = None\n",
    "\n",
    "def load_fashionmnist():\n",
    "    # 学習データ\n",
    "    x_train = np.load('../data/x_train.npy')\n",
    "    y_train = np.load('../data/y_train.npy')\n",
    "    \n",
    "    # テストデータ\n",
    "    x_test = np.load('../data/x_test.npy')\n",
    "\n",
    "    x_train = x_train.reshape(-1, 784).astype('float32') / 255\n",
    "    y_train = np.eye(10)[y_train.astype('int32')]\n",
    "    x_test = x_test.reshape(-1, 784).astype('float32') / 255\n",
    "    \n",
    "    return x_train, y_train, x_test"
   ]
  },
  {
   "cell_type": "markdown",
   "metadata": {},
   "source": [
    "### 多層パーセプトロンの実装"
   ]
  },
  {
   "cell_type": "code",
   "execution_count": 100,
   "metadata": {},
   "outputs": [
    {
     "name": "stdout",
     "output_type": "stream",
     "text": [
      "Writing ./submission_code.py\n"
     ]
    }
   ],
   "source": [
    "%%writefile ./submission_code.py\n",
    "\n",
    "from sklearn.utils import shuffle\n",
    "from sklearn.metrics import accuracy_score\n",
    "from sklearn.model_selection import train_test_split\n",
    "import copy\n",
    "\n",
    "x_train, y_train, x_test = load_fashionmnist()\n",
    "\n",
    "x_train, x_valid, y_train, y_valid = train_test_split(x_train, y_train, test_size=1000)\n",
    "\n",
    "def relu(x):\n",
    "    return np.maximum(x, 0)\n",
    "\n",
    "def deriv_relu(x):\n",
    "    return (x > 0).astype(x.dtype)\n",
    "\n",
    "def softmax(x):\n",
    "    x -= x.max(axis=1, keepdims=True)\n",
    "    x_exp = np.exp(x)\n",
    "    return x_exp / np.sum(x_exp, axis=1, keepdims=True)\n",
    "\n",
    "def deriv_softmax(x):\n",
    "    return softmax(x) * (1 - softmax(x))\n",
    "\n",
    "class Dense:\n",
    "    def __init__(self, in_dim, out_dim, function, deriv_function):\n",
    "        self.W = np.random.uniform(low=-0.08, high=0.08, size=(in_dim, out_dim)).astype('float64')\n",
    "        self.b = np.zeros([out_dim]).astype('float64')\n",
    "        \n",
    "        self.function = function\n",
    "        self.deriv_function = deriv_function\n",
    "        \n",
    "        self.x = None\n",
    "        self.u = None\n",
    "        \n",
    "        self.dW = None\n",
    "        self.db = None\n",
    "        \n",
    "def f_props(layers, x):\n",
    "    h = x\n",
    "    for layer in layers:\n",
    "        layer.x = h\n",
    "        u = layer.u = np.matmul(layer.x, layer.W) + layer.b\n",
    "        h = layer.h = layer.function(u)\n",
    "    \n",
    "    return h\n",
    "\n",
    "def b_props(layers, delta, lam=0):\n",
    "    batch_size = delta.shape[0]\n",
    "    \n",
    "    for i, layer in enumerate(layers[::-1]):\n",
    "        if i > 0: delta = layer.deriv_function(layer.u) * np.matmul(delta, W.T)\n",
    "\n",
    "        layer.dW = np.matmul(layer.x.T, delta) / batch_size  + lam * layer.W\n",
    "        layer.db = np.mean(delta, 0)\n",
    "\n",
    "        W = layer.W\n",
    "\n",
    "def update_parameters(layers, eps):\n",
    "    for layer in layers:\n",
    "        layer.W -= eps*layer.dW\n",
    "        layer.b -= eps*layer.db\n",
    "\n",
    "layers = [\n",
    "    Dense(784, 100, relu, deriv_relu),\n",
    "    Dense(100, 100, relu, deriv_relu),\n",
    "    Dense(100, 10, softmax, deriv_softmax)\n",
    "]\n",
    "\n",
    "def train_mnist(x, t, eps, lam):\n",
    "    y = f_props(layers, x)\n",
    "    delta = (y - t)\n",
    "    \n",
    "    b_props(layers, delta, lam)\n",
    "    update_parameters(layers, eps)\n",
    "    \n",
    "def valid_mnist(x, t, layers):\n",
    "    y = f_props(layers, x)\n",
    "    y_pred = np.argmax(y, axis=1)\n",
    "    y_true = np.argmax(t, axis=1)\n",
    "    \n",
    "    acc = float(np.sum(y_pred==y_true)) / len(y_true)\n",
    "    print('Valid Acc: %.3f' % acc)\n",
    "    return acc\n",
    "\n",
    "def test_mnist(x, layers_best):\n",
    "    y = f_props(layers_best, x)\n",
    "    y_pred = np.argmax(y, axis=1)\n",
    "\n",
    "    return y_pred\n",
    "\n",
    "acc_max = 0\n",
    "for epoch in range(100):\n",
    "    x_train, y_train = shuffle(x_train, y_train)\n",
    "    batch_size = 100\n",
    "    \n",
    "    for batch_i in range(batch_size):\n",
    "        x_batch, y_batch = x_train[batch_i*batch_size:(batch_i+1)*batch_size], y_train[batch_i*batch_size:(batch_i+1)*batch_size]\n",
    "        train_mnist(x_batch, y_batch, eps=0.1, lam=0.001)\n",
    "    \n",
    "    acc = valid_mnist(x_valid, y_valid, layers)\n",
    "    if acc > acc_max:\n",
    "        acc_max = acc\n",
    "        layers_best = copy.deepcopy(layers)\n",
    "        \n",
    "y_pred = test_mnist(x_test, layers_best)\n",
    "\n",
    "submission = pd.Series(y_pred, name='label')\n",
    "submission.to_csv('./submission_pred.csv', header=True, index_label='id')"
   ]
  }
 ],
 "metadata": {
  "kernelspec": {
   "display_name": "py36",
   "language": "python",
   "name": "py36"
  },
  "language_info": {
   "codemirror_mode": {
    "name": "ipython",
    "version": 3
   },
   "file_extension": ".py",
   "mimetype": "text/x-python",
   "name": "python",
   "nbconvert_exporter": "python",
   "pygments_lexer": "ipython3",
   "version": "3.6.7"
  },
  "toc": {
   "base_numbering": 1,
   "nav_menu": {},
   "number_sections": true,
   "sideBar": true,
   "skip_h1_title": false,
   "title_cell": "Table of Contents",
   "title_sidebar": "Contents",
   "toc_cell": false,
   "toc_position": {},
   "toc_section_display": true,
   "toc_window_display": false
  }
 },
 "nbformat": 4,
 "nbformat_minor": 2
}
